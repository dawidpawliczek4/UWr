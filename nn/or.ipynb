{
 "cells": [
  {
   "cell_type": "code",
   "execution_count": null,
   "metadata": {
    "vscode": {
     "languageId": "plaintext"
    }
   },
   "outputs": [],
   "source": []
  },
  {
   "cell_type": "code",
   "execution_count": null,
   "metadata": {
    "vscode": {
     "languageId": "plaintext"
    }
   },
   "outputs": [],
   "source": [
    "import torch\n",
    "import torch.nn as nn\n",
    "import torch.optim as optim\n",
    "\n",
    "# Dane treningowe dla bramki OR\n",
    "X = torch.tensor([[0, 0], [0, 1], [1, 0], [1, 1]], dtype=torch.float32)  # wejścia\n",
    "y = torch.tensor([[0], [1], [1], [1]], dtype=torch.float32)  # oczekiwane wyjścia\n",
    "\n",
    "# Definiujemy sieć neuronową\n",
    "class OR_Network(nn.Module):\n",
    "    def __init__(self):\n",
    "        super(OR_Network, self).__init__()\n",
    "        self.layer = nn.Linear(2, 1)  # Warstwa liniowa: 2 wejścia -> 1 wyjście\n",
    "        self.activation = nn.Sigmoid()  # Funkcja aktywacji Sigmoid\n",
    "\n",
    "    def forward(self, x):\n",
    "        x = self.layer(x)  # Forward pass przez warstwę liniową\n",
    "        x = self.activation(x)  # Aktywacja Sigmoid (dla klasyfikacji)\n",
    "        return x\n",
    "\n",
    "# Tworzymy model\n",
    "model = OR_Network()\n",
    "\n",
    "# Definiujemy funkcję straty (Binary Cross Entropy dla klasyfikacji)\n",
    "criterion = nn.BCELoss()\n",
    "optimizer = optim.SGD(model.parameters(), lr=0.1)  # Optymalizator: Stochastic Gradient Descent\n",
    "\n",
    "# Trening modelu\n",
    "epochs = 1000\n",
    "for epoch in range(epochs):\n",
    "    optimizer.zero_grad()  # Zerujemy gradienty\n",
    "    outputs = model(X)  # Forward pass\n",
    "    loss = criterion(outputs, y)  # Obliczamy stratę\n",
    "    loss.backward()  # Backpropagation - obliczamy gradienty\n",
    "    optimizer.step()  # Aktualizacja wag\n",
    "    \n",
    "    # Wyświetlamy co 100 epok\n",
    "    if epoch % 100 == 0:\n",
    "        print(f\"Epoch {epoch}, Loss: {loss.item()}\")\n",
    "\n",
    "# Testowanie sieci\n",
    "with torch.no_grad():  # Nie śledzimy gradientów podczas testowania\n",
    "    test_outputs = model(X)\n",
    "    predictions = (test_outputs > 0.5).float()  # Konwersja na 0/1\n",
    "    print(\"\\nTestowanie modelu:\")\n",
    "    print(predictions)\n"
   ]
  }
 ],
 "metadata": {
  "language_info": {
   "name": "python"
  }
 },
 "nbformat": 4,
 "nbformat_minor": 2
}
